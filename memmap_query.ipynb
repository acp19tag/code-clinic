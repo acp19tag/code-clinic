{
 "cells": [
  {
   "attachments": {},
   "cell_type": "markdown",
   "metadata": {},
   "source": [
    "## Just a little analysis script to make sure the memmap files are as they should be"
   ]
  },
  {
   "cell_type": "code",
   "execution_count": 22,
   "metadata": {},
   "outputs": [],
   "source": [
    "root_data_dir = 'data/encoded_entities/'"
   ]
  },
  {
   "cell_type": "code",
   "execution_count": 32,
   "metadata": {},
   "outputs": [
    {
     "ename": "ModuleNotFoundError",
     "evalue": "No module named 'torch'",
     "output_type": "error",
     "traceback": [
      "\u001b[0;31m---------------------------------------------------------------------------\u001b[0m",
      "\u001b[0;31mModuleNotFoundError\u001b[0m                       Traceback (most recent call last)",
      "Cell \u001b[0;32mIn[32], line 3\u001b[0m\n\u001b[1;32m      1\u001b[0m \u001b[39mimport\u001b[39;00m \u001b[39mnumpy\u001b[39;00m \u001b[39mas\u001b[39;00m \u001b[39mnp\u001b[39;00m\n\u001b[1;32m      2\u001b[0m \u001b[39mimport\u001b[39;00m \u001b[39mjson\u001b[39;00m\n\u001b[0;32m----> 3\u001b[0m \u001b[39mimport\u001b[39;00m \u001b[39mtorch\u001b[39;00m\n",
      "\u001b[0;31mModuleNotFoundError\u001b[0m: No module named 'torch'"
     ]
    }
   ],
   "source": [
    "import numpy as np\n",
    "import json\n",
    "import torch"
   ]
  },
  {
   "cell_type": "code",
   "execution_count": 24,
   "metadata": {},
   "outputs": [],
   "source": [
    "with open(f'{root_data_dir}config.json', 'r') as f:\n",
    "    config = json.load(f)\n",
    "    \n",
    "with open('embedding_config.json', 'r') as f:\n",
    "    embedding_config = json.load(f)\n",
    "    \n",
    "with open('data/encoded_entities/id_to_entity_id_memmap_index.json', 'r') as f:\n",
    "    id_to_entity_id_memmap_index = json.load(f)"
   ]
  },
  {
   "cell_type": "code",
   "execution_count": 25,
   "metadata": {},
   "outputs": [
    {
     "name": "stdout",
     "output_type": "stream",
     "text": [
      "config: {'max_entity_length': 3, 'n_entities': 17227, 'n_ids': 385602, 'embedding_method': 'all-MiniLM-L6-v2', 'embedding_dim': 384, 'excluded_entity_types': []}\n",
      "embedding_config: {'bert-base-nli-mean-tokens': {'embed_size': 768}, 'all-mpnet-base-v2': {'embed_size': 768, 'max_seq_length': 384, 'size_in_mb': 420, 'encoding_speed': 2800}, 'all-MiniLM-L6-v2': {'embed_size': 384, 'max_seq_length': 256, 'size_in_mb': 80, 'encoding_speed': 14200}, 'sentence-t5-xxl': {'embed_size': 768, 'max_seq_length': 256, 'size_in_mb': 9230, 'encoding_speed': 50}}\n"
     ]
    }
   ],
   "source": [
    "print(f'config: {config}')\n",
    "print(f'embedding_config: {embedding_config}')"
   ]
  },
  {
   "cell_type": "code",
   "execution_count": 28,
   "metadata": {},
   "outputs": [],
   "source": [
    "shape = (\n",
    "    config['n_entities'],\n",
    "    config['embedding_dim']\n",
    ")"
   ]
  },
  {
   "cell_type": "code",
   "execution_count": 29,
   "metadata": {},
   "outputs": [],
   "source": [
    "fpr = np.memmap(f'{root_data_dir}entities.memmap', dtype='float32', mode='r', shape = shape)"
   ]
  },
  {
   "cell_type": "code",
   "execution_count": 30,
   "metadata": {},
   "outputs": [
    {
     "data": {
      "text/plain": [
       "(17227, 384)"
      ]
     },
     "execution_count": 30,
     "metadata": {},
     "output_type": "execute_result"
    }
   ],
   "source": [
    "fpr.shape"
   ]
  }
 ],
 "metadata": {
  "kernelspec": {
   "display_name": "job-status-prediction",
   "language": "python",
   "name": "python3"
  },
  "language_info": {
   "codemirror_mode": {
    "name": "ipython",
    "version": 3
   },
   "file_extension": ".py",
   "mimetype": "text/x-python",
   "name": "python",
   "nbconvert_exporter": "python",
   "pygments_lexer": "ipython3",
   "version": "3.10.6"
  },
  "orig_nbformat": 4
 },
 "nbformat": 4,
 "nbformat_minor": 2
}
